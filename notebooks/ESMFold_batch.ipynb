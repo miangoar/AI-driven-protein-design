{
  "nbformat": 4,
  "nbformat_minor": 0,
  "metadata": {
    "colab": {
      "provenance": []
    },
    "kernelspec": {
      "name": "python3",
      "display_name": "Python 3"
    },
    "language_info": {
      "name": "python"
    },
    "accelerator": "GPU",
    "gpuClass": "standard"
  },
  "cells": [
    {
      "cell_type": "code",
      "execution_count": 1,
      "metadata": {
        "cellView": "form",
        "id": "boFQEwsNQ4Qt",
        "outputId": "0da46416-46bb-4ac3-f571-cb8944e6aca8",
        "colab": {
          "base_uri": "https://localhost:8080/"
        }
      },
      "outputs": [
        {
          "output_type": "stream",
          "name": "stdout",
          "text": [
            "CPU times: user 721 ms, sys: 126 ms, total: 848 ms\n",
            "Wall time: 3min 24s\n"
          ]
        }
      ],
      "source": [
        "%%time\n",
        "#@title install\n",
        "#@markdown install ESMFold, OpenFold and download Params (~2min 30s)\n",
        "\n",
        "import os, time\n",
        "if not os.path.isfile(\"esmfold.model\"):\n",
        "  # download esmfold params\n",
        "  os.system(\"apt-get install aria2 -qq\")\n",
        "  os.system(\"aria2c -q -x 16 https://colabfold.steineggerlab.workers.dev/esm/esmfold.model &\")\n",
        "\n",
        "  # install libs\n",
        "  os.system(\"pip install -q omegaconf pytorch_lightning biopython ml_collections einops py3Dmol\")\n",
        "  os.system(\"pip install -q git+https://github.com/NVIDIA/dllogger.git\")\n",
        "\n",
        "  # install openfold\n",
        "  commit = \"6908936b68ae89f67755240e2f588c09ec31d4c8\"\n",
        "  os.system(f\"pip install -q git+https://github.com/aqlaboratory/openfold.git@{commit}\")\n",
        "\n",
        "  # install esmfold\n",
        "  os.system(f\"pip install -q git+https://github.com/sokrypton/esm.git\")\n",
        "\n",
        "  # wait for Params to finish downloading...\n",
        "  if not os.path.isfile(\"esmfold.model\"):\n",
        "    # backup source!\n",
        "    os.system(\"aria2c -q -x 16 https://files.ipd.uw.edu/pub/esmfold/esmfold.model\")\n",
        "  else:\n",
        "    while os.path.isfile(\"esmfold.model.aria2\"):\n",
        "      time.sleep(5)"
      ]
    },
    {
      "cell_type": "code",
      "source": [
        "%%time\n",
        "#@title Import libs\n",
        "from tqdm import tqdm\n",
        "import plotly.express as px\n",
        "import pandas as pd\n",
        "\n",
        "from string import ascii_uppercase, ascii_lowercase\n",
        "import hashlib, re, os\n",
        "import numpy as np\n",
        "from jax.tree_util import tree_map\n",
        "import matplotlib.pyplot as plt\n",
        "from scipy.special import softmax\n",
        "\n",
        "def parse_output(output):\n",
        "  pae = (output[\"aligned_confidence_probs\"][0] * np.arange(64)).mean(-1) * 31\n",
        "  plddt = output[\"plddt\"][0,:,1]\n",
        "  \n",
        "  bins = np.append(0,np.linspace(2.3125,21.6875,63))\n",
        "  sm_contacts = softmax(output[\"distogram_logits\"],-1)[0]\n",
        "  sm_contacts = sm_contacts[...,bins<8].sum(-1)\n",
        "  xyz = output[\"positions\"][-1,0,:,1]\n",
        "  mask = output[\"atom37_atom_exists\"][0,:,1] == 1\n",
        "  o = {\"pae\":pae[mask,:][:,mask],\n",
        "       \"plddt\":plddt[mask],\n",
        "       \"sm_contacts\":sm_contacts[mask,:][:,mask],\n",
        "       \"xyz\":xyz[mask]}\n",
        "  return o\n",
        "\n",
        "def get_hash(x): return hashlib.sha1(x.encode()).hexdigest()\n",
        "alphabet_list = list(ascii_uppercase+ascii_lowercase)"
      ],
      "metadata": {
        "cellView": "form",
        "id": "_FxYpuk7gtBq",
        "outputId": "5ca804e9-24da-4ec0-f0fb-2a3475768d4b",
        "colab": {
          "base_uri": "https://localhost:8080/"
        }
      },
      "execution_count": 2,
      "outputs": [
        {
          "output_type": "stream",
          "name": "stdout",
          "text": [
            "CPU times: user 701 ms, sys: 192 ms, total: 893 ms\n",
            "Wall time: 1.05 s\n"
          ]
        }
      ]
    },
    {
      "cell_type": "code",
      "source": [
        "%%time\n",
        "#@title Set the environment and connect to google drive\n",
        "\n",
        "# import libs \n",
        "from pydrive.drive import GoogleDrive\n",
        "from pydrive.auth import GoogleAuth\n",
        "from google.colab import auth\n",
        "from oauth2client.client import GoogleCredentials\n",
        "from tqdm import tqdm\n",
        "import pandas as pd\n",
        "import plotly.express as px\n",
        "from google.colab import files\n",
        "\n",
        "# google drive login\n",
        "auth.authenticate_user()\n",
        "gauth = GoogleAuth()\n",
        "gauth.credentials = GoogleCredentials.get_application_default()\n",
        "drive = GoogleDrive(gauth)\n"
      ],
      "metadata": {
        "cellView": "form",
        "id": "H1Aqx001fSGs",
        "outputId": "a2700485-35c1-46a2-81ef-1036e52e2074",
        "colab": {
          "base_uri": "https://localhost:8080/"
        }
      },
      "execution_count": 3,
      "outputs": [
        {
          "output_type": "stream",
          "name": "stdout",
          "text": [
            "CPU times: user 517 ms, sys: 75.9 ms, total: 593 ms\n",
            "Wall time: 15.5 s\n"
          ]
        }
      ]
    },
    {
      "cell_type": "code",
      "source": [
        "%%time\n",
        "#@title Set directory in google drive to save the PDBs\n",
        "#@markdown You have to create it in your google drive session\n",
        "\n",
        "# get the name of the dir\n",
        "folder_id = 'a2_proteobacteria_rand100' #@param {type:\"string\"}\n",
        "file_list = drive.ListFile({'q': \"mimeType='application/vnd.google-apps.folder' and trashed=false\"}).GetList()\n",
        "for file in file_list:\n",
        "    if file['title'] == folder_id:\n",
        "        folder_id = file['id']\n",
        "        break"
      ],
      "metadata": {
        "cellView": "form",
        "id": "tXwl9BkRfYRV",
        "outputId": "6e603a80-a677-4fbc-ded2-1bad6798d736",
        "colab": {
          "base_uri": "https://localhost:8080/"
        }
      },
      "execution_count": 4,
      "outputs": [
        {
          "output_type": "stream",
          "name": "stdout",
          "text": [
            "CPU times: user 241 ms, sys: 22.9 ms, total: 264 ms\n",
            "Wall time: 3.94 s\n"
          ]
        }
      ]
    },
    {
      "cell_type": "code",
      "source": [
        "# load your data \n",
        "df = pd.read_csv(\"a2_proteobacteria_rand100.csv\")\n",
        "\n",
        "for idx, row in df.head(3).iterrows():\n",
        "  protein_name = row[\"protein_name\"]\n",
        "  print(protein_name)\n",
        "  seq = row[\"seq\"]\n",
        "  print(seq)"
      ],
      "metadata": {
        "id": "b5bXK4Ylfwsl",
        "outputId": "5daf3d58-ce07-48f2-8c4c-0f61dc3c999e",
        "colab": {
          "base_uri": "https://localhost:8080/"
        }
      },
      "execution_count": 19,
      "outputs": [
        {
          "output_type": "stream",
          "name": "stdout",
          "text": [
            "AFAM6029-1\n",
            "MDFVRSLALTLVAATLVLAPPTSLASQKPRGDAALETELRRLAATLPGTVGIAVHHVGTGRLVTVDAHRAFPMASVFKLPVAIAVLRRVQTGGLTLETPITIAPEAYYPGYSPLRDAKNRAEATVTVRDLVETMMVDSDNTAVDVLMARMGGADAVNAELRAAGVPDVSVHRTEGEVMADLDGLGAAPAGGWTYSALVAGEARATAEGKRAGRAKFLADSRDTATPTALANLLARLDRGEVLDAERTKILVGMLDRNKTGGRRFRAGLPAGVRIGDKTGTNPTVGTYNDAALVTLPSGARIALVVMTREAGDTGAAAEQLMASVARTVYAHFARP\n",
            "AFAM6905-1\n",
            "MRAHLLLSLTFASTLLAQPSLQSRIATIAATIPAKVSVACSLPNTPLNCDLNPDANPPMQSVFKFPLAVAVLHRADEGKLFPNQRAGQSLDEILDTPVRYLSVDIISPPNYSPLQDKYPRGNVDVPLRELITLSVSKSDNTASDILLRILGGPPVLDAYIHTLGVTGFQVRDNEKSLHATNALQYRNTFSPRAATQLLRLMADRSPLSPASTRFLNDIMLHATSGPHRIHGDLPEGTSVAHKTGTSGTANGMDAATNDIGLITLPNGQRLAIAIFVTDAHATPEAIEHVMAQIARAAYDEAIAIK\n",
            "AFAM6906-1\n",
            "MKRILACCVGLVVGSAMAQGGLRQQIRATAEQAKGKVSVACSLPGTLLDCDLHPDAHPPMQSVFKLPLGMAILDQVQRGRFTIDQPIRFLASDRIPNAYSPLQDEFPQADVDVPLRELLRLSVSLSDNCAADVLLRILGGPKVLQAYIDSLGIEGFHIQDDEAGLHQDVLAQYRNWFEPSAAVALLRLINDRPPFSRQNTALLTGWMKTPPDRPSRVAQALPKGIEVLHKTGTSDVSPAGVAYATNDIGLITLPDGRRLAVAVFVTDASADTATRDRVIAEISRQIYDAALQAKR\n"
          ]
        }
      ]
    },
    {
      "cell_type": "code",
      "source": [
        "#@title ##run **ESMFold**\n",
        "model_lst = []\n",
        "pae_lst = []\n",
        "plddt_lst = []\n",
        "seq_len_lst = []\n",
        "\n",
        "for idx, row in tqdm(df.iterrows(),  desc = \"Predicting folds with ESMFold\"):\n",
        "  \n",
        "  protein_name = str(row[\"protein_name\"])\n",
        "  seq = str(row[\"seq\"])\n",
        "\n",
        "  jobname = protein_name\n",
        "  jobname = re.sub(r'\\W+', '', jobname)[:50]\n",
        "\n",
        "  sequence = seq\n",
        "  sequence = re.sub(\"[^A-Z:]\", \"\", sequence.replace(\"/\",\":\").upper())\n",
        "  sequence = re.sub(\":+\",\":\",sequence)\n",
        "  sequence = re.sub(\"^[:]+\",\"\",sequence)\n",
        "  sequence = re.sub(\"[:]+$\",\"\",sequence)\n",
        "  copies = 1 \n",
        "  if copies == \"\" or copies <= 0: copies = 1\n",
        "  sequence = \":\".join([sequence] * copies)\n",
        "  num_recycles = 3\n",
        "  chain_linker = 25 \n",
        "\n",
        "  ID = jobname+\"_\"+get_hash(sequence)[:5]\n",
        "  seqs = sequence.split(\":\")\n",
        "  lengths = [len(s) for s in seqs]\n",
        "  length = sum(lengths)\n",
        "\n",
        "  u_seqs = list(set(seqs))\n",
        "  if len(seqs) == 1: mode = \"mono\"\n",
        "  elif len(u_seqs) == 1: mode = \"homo\"\n",
        "  else: mode = \"hetero\"\n",
        "\n",
        "  if \"model\" not in dir():\n",
        "    import torch\n",
        "    model = torch.load(\"esmfold.model\")\n",
        "    model.eval().cuda().requires_grad_(False)\n",
        "\n",
        "  # optimized for Tesla T4\n",
        "  if length > 700:\n",
        "    model.set_chunk_size(64)\n",
        "  else:\n",
        "    model.set_chunk_size(128)\n",
        "\n",
        "  torch.cuda.empty_cache()\n",
        "  output = model.infer(sequence,\n",
        "                       num_recycles=num_recycles,\n",
        "                       chain_linker=\"X\"*chain_linker,\n",
        "                       residue_index_offset=512)\n",
        "\n",
        "  pdb_str = model.output_to_pdb(output)[0]\n",
        "  output = tree_map(lambda x: x.cpu().numpy(), output)\n",
        "  ptm = output[\"ptm\"][0]\n",
        "  plddt = output[\"plddt\"][0,...,1].mean()\n",
        "  O = parse_output(output)\n",
        "  #os.system(f\"mkdir -p {ID}\")\n",
        "  #prefix = f\"{ID}/ptm{ptm:.3f}_r{num_recycles}_default\"\n",
        "  #np.savetxt(f\"{prefix}.pae.txt\",O[\"pae\"],\"%.3f\")\n",
        "  with open(f\"{protein_name}.pdb\",\"w\") as out:\n",
        "    out.write(pdb_str)\n",
        "\n",
        "\n",
        "  model_lst.append(jobname)\n",
        "  pae_lst.append(ptm)\n",
        "  plddt_lst.append(plddt)\n",
        "  \n",
        "  # upload the results to google drive\n",
        "  uploaded = drive.CreateFile({'title': f\"{protein_name}.pdb\", 'parents': [{'id': folder_id}]})\n",
        "  uploaded.SetContentFile(f\"{protein_name}.pdb\")\n",
        "  uploaded.Upload()"
      ],
      "metadata": {
        "cellView": "form",
        "id": "CcyNpAvhTX6q",
        "outputId": "fab54aec-d850-467c-8edf-ab260090149e",
        "colab": {
          "base_uri": "https://localhost:8080/"
        }
      },
      "execution_count": 20,
      "outputs": [
        {
          "output_type": "stream",
          "name": "stderr",
          "text": [
            "Predicting folds with ESMFold: 100it [1:12:33, 43.53s/it]\n"
          ]
        }
      ]
    },
    {
      "cell_type": "code",
      "source": [
        "#@title Plot the quality of the models\n",
        "\n",
        "# create the csv\n",
        "df = pd.DataFrame()\n",
        "df[\"model\"] = model_lst\n",
        "df[\"ptm\"] = pae_lst\n",
        "df[\"plddt\"] = plddt_lst\n",
        "\n",
        "# plot \n",
        "fig = px.histogram(df, x=\"model\", y=\"plddt\", title='Model quality', height = 600, width = 800, hover_name=\"model\")\n",
        "fig.update_traces(marker=dict(color = \"red\", size=8, line=dict(width=1, color='black')),selector=dict(mode='markers'))\n",
        "fig.update_layout(template=\"plotly_white\")\n",
        "fig.update_yaxes(showline=True, linewidth=1, linecolor='LightGrey')\n",
        "fig.update_xaxes(showline=True, linewidth=1, linecolor='LightGrey')\n",
        "fig.show()"
      ],
      "metadata": {
        "cellView": "form",
        "id": "UFtXfREnkynA",
        "outputId": "3ac1c1ae-b7f8-4f8f-af99-0efc55ec730a",
        "colab": {
          "base_uri": "https://localhost:8080/",
          "height": 617
        }
      },
      "execution_count": 21,
      "outputs": [
        {
          "output_type": "display_data",
          "data": {
            "text/html": [
              "<html>\n",
              "<head><meta charset=\"utf-8\" /></head>\n",
              "<body>\n",
              "    <div>            <script src=\"https://cdnjs.cloudflare.com/ajax/libs/mathjax/2.7.5/MathJax.js?config=TeX-AMS-MML_SVG\"></script><script type=\"text/javascript\">if (window.MathJax && window.MathJax.Hub && window.MathJax.Hub.Config) {window.MathJax.Hub.Config({SVG: {font: \"STIX-Web\"}});}</script>                <script type=\"text/javascript\">window.PlotlyConfig = {MathJaxConfig: 'local'};</script>\n",
              "        <script src=\"https://cdn.plot.ly/plotly-2.18.2.min.js\"></script>                <div id=\"dfdf62e5-2b21-4353-8ebe-d1906c47bb01\" class=\"plotly-graph-div\" style=\"height:600px; width:800px;\"></div>            <script type=\"text/javascript\">                                    window.PLOTLYENV=window.PLOTLYENV || {};                                    if (document.getElementById(\"dfdf62e5-2b21-4353-8ebe-d1906c47bb01\")) {                    Plotly.newPlot(                        \"dfdf62e5-2b21-4353-8ebe-d1906c47bb01\",                        [{\"alignmentgroup\":\"True\",\"bingroup\":\"x\",\"histfunc\":\"sum\",\"hovertemplate\":\"model=%{x}<br>sum of plddt=%{y}<extra></extra>\",\"legendgroup\":\"\",\"marker\":{\"color\":\"#636efa\",\"pattern\":{\"shape\":\"\"}},\"name\":\"\",\"offsetgroup\":\"\",\"orientation\":\"v\",\"showlegend\":false,\"x\":[\"AFAM60291\",\"AFAM69051\",\"AFAM69061\",\"AFAM69071\",\"AFAM69081\",\"AFAM69111\",\"AFAM69121\",\"AFAM69131\",\"AFAM69371\",\"AFAM69381\",\"AFAM74591\",\"AFAM74611\",\"AFAM74621\",\"AFAM74631\",\"AFAM74645\",\"AFAM74691\",\"AFAM74692\",\"AFAM74711\",\"AFAM74721\",\"AFAM74722\",\"AFAM74801\",\"AFAM74961\",\"AFAM74971\",\"AFAM75001\",\"AFAM75011\",\"AFAM75081\",\"SPH1\",\"AFAM73098\",\"AFAM72525\",\"AFAM70191\",\"AFAM72164\",\"AFAM738912\",\"AFAM71514\",\"AFAM69581\",\"AFAM69701\",\"AFAM70941\",\"AFAM72581\",\"AFAM69691\",\"AFAM73561\",\"AFAM75131\",\"AFAM69931\",\"AFAM70241\",\"AFAM73845\",\"AFAM738918\",\"AFAM72101\",\"AFAM73551\",\"AFAM72711\",\"AFAM69631\",\"AFAM75186\",\"AFAM74821\",\"AFAM70212\",\"AFAM69982\",\"AFAM72163\",\"AFAM71491\",\"AFAM723213\",\"AFAM70611\",\"AFAM69642\",\"AFAM71281\",\"AFAM72524\",\"AFAM713410\",\"AFAM69971\",\"AFAM72771\",\"AFAM69501\",\"AFAM70631\",\"AFAM71134\",\"AFAM71721\",\"AFAM71742\",\"AFAM71551\",\"AFAM72322\",\"AFAM71911\",\"AFAM71593\",\"AFAM70831\",\"AFAM71282\",\"AFAM727917\",\"AFAM71661\",\"AFAM69601\",\"AFAM74353\",\"AFAM72792\",\"AFAM738929\",\"AFAM71651\",\"AFAM00021\",\"AFAM751810\",\"AFAM70486\",\"AFAM73431\",\"AFAM70461\",\"AFAM71891\",\"AFAM72291\",\"AFAM71811\",\"AFAM69621\",\"AFAM70293\",\"AFAM71931\",\"AFAM74251\",\"AFAM75111\",\"AFAM69951\",\"AFAM72501\",\"AFAM70441\",\"AFAM70621\",\"AFAM72281\",\"AFAM74982\",\"AFAM70141\"],\"xaxis\":\"x\",\"y\":[95.9786605834961,94.57461547851562,95.13424682617188,96.54371643066406,97.40538024902344,94.6997299194336,95.0120849609375,94.66836547851562,96.06839752197266,96.8131332397461,93.5196304321289,93.99573516845703,95.29315185546875,93.60173034667969,90.1260757446289,92.43196105957031,93.52783966064453,91.13429260253906,92.03211975097656,90.90252685546875,95.1424789428711,96.56995391845703,95.26506805419922,95.82540130615234,95.92253112792969,95.29953002929688,97.69713592529297,90.52996826171875,91.91759490966797,95.02426147460938,90.00698852539062,92.6614990234375,89.58219909667969,95.2417221069336,94.4986572265625,91.98849487304688,93.81373596191406,94.1673355102539,92.9810562133789,95.13958740234375,91.36771392822266,95.33153533935547,94.30778503417969,91.90036010742188,90.09295654296875,94.28343200683594,93.83938598632812,94.57849884033203,94.8890609741211,93.37443542480469,94.33010864257812,93.33950805664062,89.3690185546875,91.21761322021484,88.33589935302734,93.4120864868164,95.55268859863281,92.61591339111328,89.04432678222656,91.78726196289062,93.406005859375,93.36431884765625,93.45487213134766,93.42971801757812,91.72257232666016,94.78555297851562,93.2518081665039,94.39569091796875,90.47756958007812,93.2548828125,92.37619018554688,93.61475372314453,93.34144592285156,90.19796752929688,94.44291687011719,94.77513885498047,95.53231048583984,89.5986099243164,91.3438720703125,89.18417358398438,94.746337890625,93.43504333496094,92.7190170288086,89.29752349853516,91.9821548461914,93.34629821777344,89.37423706054688,92.10568237304688,94.67678833007812,93.81658935546875,95.01380920410156,93.7983169555664,94.29451751708984,91.7645263671875,90.81814575195312,91.10760498046875,91.25731658935547,90.24491119384766,95.21862030029297,93.32154846191406],\"yaxis\":\"y\",\"type\":\"histogram\"}],                        {\"template\":{\"data\":{\"barpolar\":[{\"marker\":{\"line\":{\"color\":\"white\",\"width\":0.5},\"pattern\":{\"fillmode\":\"overlay\",\"size\":10,\"solidity\":0.2}},\"type\":\"barpolar\"}],\"bar\":[{\"error_x\":{\"color\":\"#2a3f5f\"},\"error_y\":{\"color\":\"#2a3f5f\"},\"marker\":{\"line\":{\"color\":\"white\",\"width\":0.5},\"pattern\":{\"fillmode\":\"overlay\",\"size\":10,\"solidity\":0.2}},\"type\":\"bar\"}],\"carpet\":[{\"aaxis\":{\"endlinecolor\":\"#2a3f5f\",\"gridcolor\":\"#C8D4E3\",\"linecolor\":\"#C8D4E3\",\"minorgridcolor\":\"#C8D4E3\",\"startlinecolor\":\"#2a3f5f\"},\"baxis\":{\"endlinecolor\":\"#2a3f5f\",\"gridcolor\":\"#C8D4E3\",\"linecolor\":\"#C8D4E3\",\"minorgridcolor\":\"#C8D4E3\",\"startlinecolor\":\"#2a3f5f\"},\"type\":\"carpet\"}],\"choropleth\":[{\"colorbar\":{\"outlinewidth\":0,\"ticks\":\"\"},\"type\":\"choropleth\"}],\"contourcarpet\":[{\"colorbar\":{\"outlinewidth\":0,\"ticks\":\"\"},\"type\":\"contourcarpet\"}],\"contour\":[{\"colorbar\":{\"outlinewidth\":0,\"ticks\":\"\"},\"colorscale\":[[0.0,\"#0d0887\"],[0.1111111111111111,\"#46039f\"],[0.2222222222222222,\"#7201a8\"],[0.3333333333333333,\"#9c179e\"],[0.4444444444444444,\"#bd3786\"],[0.5555555555555556,\"#d8576b\"],[0.6666666666666666,\"#ed7953\"],[0.7777777777777778,\"#fb9f3a\"],[0.8888888888888888,\"#fdca26\"],[1.0,\"#f0f921\"]],\"type\":\"contour\"}],\"heatmapgl\":[{\"colorbar\":{\"outlinewidth\":0,\"ticks\":\"\"},\"colorscale\":[[0.0,\"#0d0887\"],[0.1111111111111111,\"#46039f\"],[0.2222222222222222,\"#7201a8\"],[0.3333333333333333,\"#9c179e\"],[0.4444444444444444,\"#bd3786\"],[0.5555555555555556,\"#d8576b\"],[0.6666666666666666,\"#ed7953\"],[0.7777777777777778,\"#fb9f3a\"],[0.8888888888888888,\"#fdca26\"],[1.0,\"#f0f921\"]],\"type\":\"heatmapgl\"}],\"heatmap\":[{\"colorbar\":{\"outlinewidth\":0,\"ticks\":\"\"},\"colorscale\":[[0.0,\"#0d0887\"],[0.1111111111111111,\"#46039f\"],[0.2222222222222222,\"#7201a8\"],[0.3333333333333333,\"#9c179e\"],[0.4444444444444444,\"#bd3786\"],[0.5555555555555556,\"#d8576b\"],[0.6666666666666666,\"#ed7953\"],[0.7777777777777778,\"#fb9f3a\"],[0.8888888888888888,\"#fdca26\"],[1.0,\"#f0f921\"]],\"type\":\"heatmap\"}],\"histogram2dcontour\":[{\"colorbar\":{\"outlinewidth\":0,\"ticks\":\"\"},\"colorscale\":[[0.0,\"#0d0887\"],[0.1111111111111111,\"#46039f\"],[0.2222222222222222,\"#7201a8\"],[0.3333333333333333,\"#9c179e\"],[0.4444444444444444,\"#bd3786\"],[0.5555555555555556,\"#d8576b\"],[0.6666666666666666,\"#ed7953\"],[0.7777777777777778,\"#fb9f3a\"],[0.8888888888888888,\"#fdca26\"],[1.0,\"#f0f921\"]],\"type\":\"histogram2dcontour\"}],\"histogram2d\":[{\"colorbar\":{\"outlinewidth\":0,\"ticks\":\"\"},\"colorscale\":[[0.0,\"#0d0887\"],[0.1111111111111111,\"#46039f\"],[0.2222222222222222,\"#7201a8\"],[0.3333333333333333,\"#9c179e\"],[0.4444444444444444,\"#bd3786\"],[0.5555555555555556,\"#d8576b\"],[0.6666666666666666,\"#ed7953\"],[0.7777777777777778,\"#fb9f3a\"],[0.8888888888888888,\"#fdca26\"],[1.0,\"#f0f921\"]],\"type\":\"histogram2d\"}],\"histogram\":[{\"marker\":{\"pattern\":{\"fillmode\":\"overlay\",\"size\":10,\"solidity\":0.2}},\"type\":\"histogram\"}],\"mesh3d\":[{\"colorbar\":{\"outlinewidth\":0,\"ticks\":\"\"},\"type\":\"mesh3d\"}],\"parcoords\":[{\"line\":{\"colorbar\":{\"outlinewidth\":0,\"ticks\":\"\"}},\"type\":\"parcoords\"}],\"pie\":[{\"automargin\":true,\"type\":\"pie\"}],\"scatter3d\":[{\"line\":{\"colorbar\":{\"outlinewidth\":0,\"ticks\":\"\"}},\"marker\":{\"colorbar\":{\"outlinewidth\":0,\"ticks\":\"\"}},\"type\":\"scatter3d\"}],\"scattercarpet\":[{\"marker\":{\"colorbar\":{\"outlinewidth\":0,\"ticks\":\"\"}},\"type\":\"scattercarpet\"}],\"scattergeo\":[{\"marker\":{\"colorbar\":{\"outlinewidth\":0,\"ticks\":\"\"}},\"type\":\"scattergeo\"}],\"scattergl\":[{\"marker\":{\"colorbar\":{\"outlinewidth\":0,\"ticks\":\"\"}},\"type\":\"scattergl\"}],\"scattermapbox\":[{\"marker\":{\"colorbar\":{\"outlinewidth\":0,\"ticks\":\"\"}},\"type\":\"scattermapbox\"}],\"scatterpolargl\":[{\"marker\":{\"colorbar\":{\"outlinewidth\":0,\"ticks\":\"\"}},\"type\":\"scatterpolargl\"}],\"scatterpolar\":[{\"marker\":{\"colorbar\":{\"outlinewidth\":0,\"ticks\":\"\"}},\"type\":\"scatterpolar\"}],\"scatter\":[{\"fillpattern\":{\"fillmode\":\"overlay\",\"size\":10,\"solidity\":0.2},\"type\":\"scatter\"}],\"scatterternary\":[{\"marker\":{\"colorbar\":{\"outlinewidth\":0,\"ticks\":\"\"}},\"type\":\"scatterternary\"}],\"surface\":[{\"colorbar\":{\"outlinewidth\":0,\"ticks\":\"\"},\"colorscale\":[[0.0,\"#0d0887\"],[0.1111111111111111,\"#46039f\"],[0.2222222222222222,\"#7201a8\"],[0.3333333333333333,\"#9c179e\"],[0.4444444444444444,\"#bd3786\"],[0.5555555555555556,\"#d8576b\"],[0.6666666666666666,\"#ed7953\"],[0.7777777777777778,\"#fb9f3a\"],[0.8888888888888888,\"#fdca26\"],[1.0,\"#f0f921\"]],\"type\":\"surface\"}],\"table\":[{\"cells\":{\"fill\":{\"color\":\"#EBF0F8\"},\"line\":{\"color\":\"white\"}},\"header\":{\"fill\":{\"color\":\"#C8D4E3\"},\"line\":{\"color\":\"white\"}},\"type\":\"table\"}]},\"layout\":{\"annotationdefaults\":{\"arrowcolor\":\"#2a3f5f\",\"arrowhead\":0,\"arrowwidth\":1},\"autotypenumbers\":\"strict\",\"coloraxis\":{\"colorbar\":{\"outlinewidth\":0,\"ticks\":\"\"}},\"colorscale\":{\"diverging\":[[0,\"#8e0152\"],[0.1,\"#c51b7d\"],[0.2,\"#de77ae\"],[0.3,\"#f1b6da\"],[0.4,\"#fde0ef\"],[0.5,\"#f7f7f7\"],[0.6,\"#e6f5d0\"],[0.7,\"#b8e186\"],[0.8,\"#7fbc41\"],[0.9,\"#4d9221\"],[1,\"#276419\"]],\"sequential\":[[0.0,\"#0d0887\"],[0.1111111111111111,\"#46039f\"],[0.2222222222222222,\"#7201a8\"],[0.3333333333333333,\"#9c179e\"],[0.4444444444444444,\"#bd3786\"],[0.5555555555555556,\"#d8576b\"],[0.6666666666666666,\"#ed7953\"],[0.7777777777777778,\"#fb9f3a\"],[0.8888888888888888,\"#fdca26\"],[1.0,\"#f0f921\"]],\"sequentialminus\":[[0.0,\"#0d0887\"],[0.1111111111111111,\"#46039f\"],[0.2222222222222222,\"#7201a8\"],[0.3333333333333333,\"#9c179e\"],[0.4444444444444444,\"#bd3786\"],[0.5555555555555556,\"#d8576b\"],[0.6666666666666666,\"#ed7953\"],[0.7777777777777778,\"#fb9f3a\"],[0.8888888888888888,\"#fdca26\"],[1.0,\"#f0f921\"]]},\"colorway\":[\"#636efa\",\"#EF553B\",\"#00cc96\",\"#ab63fa\",\"#FFA15A\",\"#19d3f3\",\"#FF6692\",\"#B6E880\",\"#FF97FF\",\"#FECB52\"],\"font\":{\"color\":\"#2a3f5f\"},\"geo\":{\"bgcolor\":\"white\",\"lakecolor\":\"white\",\"landcolor\":\"white\",\"showlakes\":true,\"showland\":true,\"subunitcolor\":\"#C8D4E3\"},\"hoverlabel\":{\"align\":\"left\"},\"hovermode\":\"closest\",\"mapbox\":{\"style\":\"light\"},\"paper_bgcolor\":\"white\",\"plot_bgcolor\":\"white\",\"polar\":{\"angularaxis\":{\"gridcolor\":\"#EBF0F8\",\"linecolor\":\"#EBF0F8\",\"ticks\":\"\"},\"bgcolor\":\"white\",\"radialaxis\":{\"gridcolor\":\"#EBF0F8\",\"linecolor\":\"#EBF0F8\",\"ticks\":\"\"}},\"scene\":{\"xaxis\":{\"backgroundcolor\":\"white\",\"gridcolor\":\"#DFE8F3\",\"gridwidth\":2,\"linecolor\":\"#EBF0F8\",\"showbackground\":true,\"ticks\":\"\",\"zerolinecolor\":\"#EBF0F8\"},\"yaxis\":{\"backgroundcolor\":\"white\",\"gridcolor\":\"#DFE8F3\",\"gridwidth\":2,\"linecolor\":\"#EBF0F8\",\"showbackground\":true,\"ticks\":\"\",\"zerolinecolor\":\"#EBF0F8\"},\"zaxis\":{\"backgroundcolor\":\"white\",\"gridcolor\":\"#DFE8F3\",\"gridwidth\":2,\"linecolor\":\"#EBF0F8\",\"showbackground\":true,\"ticks\":\"\",\"zerolinecolor\":\"#EBF0F8\"}},\"shapedefaults\":{\"line\":{\"color\":\"#2a3f5f\"}},\"ternary\":{\"aaxis\":{\"gridcolor\":\"#DFE8F3\",\"linecolor\":\"#A2B1C6\",\"ticks\":\"\"},\"baxis\":{\"gridcolor\":\"#DFE8F3\",\"linecolor\":\"#A2B1C6\",\"ticks\":\"\"},\"bgcolor\":\"white\",\"caxis\":{\"gridcolor\":\"#DFE8F3\",\"linecolor\":\"#A2B1C6\",\"ticks\":\"\"}},\"title\":{\"x\":0.05},\"xaxis\":{\"automargin\":true,\"gridcolor\":\"#EBF0F8\",\"linecolor\":\"#EBF0F8\",\"ticks\":\"\",\"title\":{\"standoff\":15},\"zerolinecolor\":\"#EBF0F8\",\"zerolinewidth\":2},\"yaxis\":{\"automargin\":true,\"gridcolor\":\"#EBF0F8\",\"linecolor\":\"#EBF0F8\",\"ticks\":\"\",\"title\":{\"standoff\":15},\"zerolinecolor\":\"#EBF0F8\",\"zerolinewidth\":2}}},\"xaxis\":{\"anchor\":\"y\",\"domain\":[0.0,1.0],\"title\":{\"text\":\"model\"},\"showline\":true,\"linewidth\":1,\"linecolor\":\"LightGrey\"},\"yaxis\":{\"anchor\":\"x\",\"domain\":[0.0,1.0],\"title\":{\"text\":\"sum of plddt\"},\"showline\":true,\"linewidth\":1,\"linecolor\":\"LightGrey\"},\"legend\":{\"tracegroupgap\":0},\"title\":{\"text\":\"Model quality\"},\"barmode\":\"relative\",\"height\":600,\"width\":800},                        {\"responsive\": true}                    ).then(function(){\n",
              "                            \n",
              "var gd = document.getElementById('dfdf62e5-2b21-4353-8ebe-d1906c47bb01');\n",
              "var x = new MutationObserver(function (mutations, observer) {{\n",
              "        var display = window.getComputedStyle(gd).display;\n",
              "        if (!display || display === 'none') {{\n",
              "            console.log([gd, 'removed!']);\n",
              "            Plotly.purge(gd);\n",
              "            observer.disconnect();\n",
              "        }}\n",
              "}});\n",
              "\n",
              "// Listen for the removal of the full notebook cells\n",
              "var notebookContainer = gd.closest('#notebook-container');\n",
              "if (notebookContainer) {{\n",
              "    x.observe(notebookContainer, {childList: true});\n",
              "}}\n",
              "\n",
              "// Listen for the clearing of the current output cell\n",
              "var outputEl = gd.closest('.output');\n",
              "if (outputEl) {{\n",
              "    x.observe(outputEl, {childList: true});\n",
              "}}\n",
              "\n",
              "                        })                };                            </script>        </div>\n",
              "</body>\n",
              "</html>"
            ]
          },
          "metadata": {}
        }
      ]
    }
  ]
}