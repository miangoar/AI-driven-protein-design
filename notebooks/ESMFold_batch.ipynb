{
  "nbformat": 4,
  "nbformat_minor": 0,
  "metadata": {
    "colab": {
      "provenance": []
    },
    "kernelspec": {
      "name": "python3",
      "display_name": "Python 3"
    },
    "language_info": {
      "name": "python"
    },
    "accelerator": "GPU",
    "gpuClass": "standard"
  },
  "cells": [
    {
      "cell_type": "markdown",
      "source": [
        "# Introduction\n",
        "\n",
        "This notebook is an adaptation of the ESMFold notebook of [ColabFold](https://github.com/sokrypton/ColabFold#making-protein-folding-accessible-to-all-via-google-colab)\n",
        "\n",
        "It takes a dataframe with two columns:\n",
        "1. protein_name: the identifier of your proteins\n",
        "2. seq: the amino acid sequence\n",
        "\n",
        "If your dataset does not have this format you have to change it. \n",
        "\n",
        "You have to create a directory (variable = `folder_id`) in the main root of your Google Drive. This notebook will access to this directory to save each predicted protein in PDB format. \n",
        "\n"
      ],
      "metadata": {
        "id": "fLvFOj1tdZM3"
      }
    },
    {
      "cell_type": "code",
      "source": [
        "%%time\n",
        "#@title Set the environment and connect to google drive\n",
        "# @markdown It will ask for access permissions\n",
        "\n",
        "# import libs \n",
        "from pydrive.drive import GoogleDrive\n",
        "from pydrive.auth import GoogleAuth\n",
        "from google.colab import auth\n",
        "from oauth2client.client import GoogleCredentials\n",
        "from tqdm import tqdm\n",
        "import pandas as pd\n",
        "import plotly.express as px\n",
        "from google.colab import files\n",
        "\n",
        "# google drive login\n",
        "auth.authenticate_user()\n",
        "gauth = GoogleAuth()\n",
        "gauth.credentials = GoogleCredentials.get_application_default()\n",
        "drive = GoogleDrive(gauth)\n"
      ],
      "metadata": {
        "cellView": "form",
        "id": "H1Aqx001fSGs",
        "outputId": "2d9e315e-5202-4b91-b131-be98b98d0881",
        "colab": {
          "base_uri": "https://localhost:8080/"
        }
      },
      "execution_count": 1,
      "outputs": [
        {
          "output_type": "stream",
          "name": "stdout",
          "text": [
            "CPU times: user 1.08 s, sys: 125 ms, total: 1.2 s\n",
            "Wall time: 21.6 s\n"
          ]
        }
      ]
    },
    {
      "cell_type": "code",
      "source": [
        "%%time\n",
        "#@title Set directory in google drive to save the PDBs\n",
        "#@markdown You have to create it in your google drive session\n",
        "\n",
        "# get the name of the dir\n",
        "folder_id = 'name_of_your_directory' #@param {type:\"string\"}\n",
        "file_list = drive.ListFile({'q': \"mimeType='application/vnd.google-apps.folder' and trashed=false\"}).GetList()\n",
        "for file in file_list:\n",
        "    if file['title'] == folder_id:\n",
        "        folder_id = file['id']\n",
        "        break"
      ],
      "metadata": {
        "cellView": "form",
        "id": "tXwl9BkRfYRV",
        "outputId": "364ef06b-8c24-4000-b201-98e7990e7151",
        "colab": {
          "base_uri": "https://localhost:8080/"
        }
      },
      "execution_count": 2,
      "outputs": [
        {
          "output_type": "stream",
          "name": "stdout",
          "text": [
            "CPU times: user 27 ms, sys: 3.02 ms, total: 30 ms\n",
            "Wall time: 1.97 s\n"
          ]
        }
      ]
    },
    {
      "cell_type": "code",
      "execution_count": 3,
      "metadata": {
        "cellView": "form",
        "id": "boFQEwsNQ4Qt",
        "outputId": "ca097c8b-df1b-4a4b-9fa2-d7c566700e9d",
        "colab": {
          "base_uri": "https://localhost:8080/"
        }
      },
      "outputs": [
        {
          "output_type": "stream",
          "name": "stdout",
          "text": [
            "CPU times: user 764 ms, sys: 120 ms, total: 884 ms\n",
            "Wall time: 3min 32s\n"
          ]
        }
      ],
      "source": [
        "%%time\n",
        "#@title install\n",
        "#@markdown install ESMFold, OpenFold and download Params (~2min 30s)\n",
        "\n",
        "import os, time\n",
        "if not os.path.isfile(\"esmfold.model\"):\n",
        "  # download esmfold params\n",
        "  os.system(\"apt-get install aria2 -qq\")\n",
        "  os.system(\"aria2c -q -x 16 https://colabfold.steineggerlab.workers.dev/esm/esmfold.model &\")\n",
        "\n",
        "  # install libs\n",
        "  os.system(\"pip install -q omegaconf pytorch_lightning biopython ml_collections einops py3Dmol\")\n",
        "  os.system(\"pip install -q git+https://github.com/NVIDIA/dllogger.git\")\n",
        "\n",
        "  # install openfold\n",
        "  commit = \"6908936b68ae89f67755240e2f588c09ec31d4c8\"\n",
        "  os.system(f\"pip install -q git+https://github.com/aqlaboratory/openfold.git@{commit}\")\n",
        "\n",
        "  # install esmfold\n",
        "  os.system(f\"pip install -q git+https://github.com/sokrypton/esm.git\")\n",
        "\n",
        "  # wait for Params to finish downloading...\n",
        "  if not os.path.isfile(\"esmfold.model\"):\n",
        "    # backup source!\n",
        "    os.system(\"aria2c -q -x 16 https://files.ipd.uw.edu/pub/esmfold/esmfold.model\")\n",
        "  else:\n",
        "    while os.path.isfile(\"esmfold.model.aria2\"):\n",
        "      time.sleep(5)"
      ]
    },
    {
      "cell_type": "code",
      "source": [
        "%%time\n",
        "#@title Import libs\n",
        "from tqdm import tqdm\n",
        "import plotly.express as px\n",
        "import pandas as pd\n",
        "\n",
        "from string import ascii_uppercase, ascii_lowercase\n",
        "import hashlib, re, os\n",
        "import numpy as np\n",
        "from jax.tree_util import tree_map\n",
        "import matplotlib.pyplot as plt\n",
        "from scipy.special import softmax\n",
        "\n",
        "def parse_output(output):\n",
        "  pae = (output[\"aligned_confidence_probs\"][0] * np.arange(64)).mean(-1) * 31\n",
        "  plddt = output[\"plddt\"][0,:,1]\n",
        "  \n",
        "  bins = np.append(0,np.linspace(2.3125,21.6875,63))\n",
        "  sm_contacts = softmax(output[\"distogram_logits\"],-1)[0]\n",
        "  sm_contacts = sm_contacts[...,bins<8].sum(-1)\n",
        "  xyz = output[\"positions\"][-1,0,:,1]\n",
        "  mask = output[\"atom37_atom_exists\"][0,:,1] == 1\n",
        "  o = {\"pae\":pae[mask,:][:,mask],\n",
        "       \"plddt\":plddt[mask],\n",
        "       \"sm_contacts\":sm_contacts[mask,:][:,mask],\n",
        "       \"xyz\":xyz[mask]}\n",
        "  return o\n",
        "\n",
        "def get_hash(x): return hashlib.sha1(x.encode()).hexdigest()\n",
        "alphabet_list = list(ascii_uppercase+ascii_lowercase)"
      ],
      "metadata": {
        "cellView": "form",
        "id": "_FxYpuk7gtBq",
        "outputId": "aa48e37b-8109-487c-c6bb-641be5d55f7f",
        "colab": {
          "base_uri": "https://localhost:8080/"
        }
      },
      "execution_count": 4,
      "outputs": [
        {
          "output_type": "stream",
          "name": "stdout",
          "text": [
            "CPU times: user 587 ms, sys: 86.6 ms, total: 674 ms\n",
            "Wall time: 678 ms\n"
          ]
        }
      ]
    },
    {
      "cell_type": "code",
      "source": [
        "# load your data \n",
        "df = pd.read_csv(\"part_1.csv\")\n",
        "\n",
        "for idx, row in df.head(3).iterrows():\n",
        "  protein_name = row[\"protein_name\"]\n",
        "  print(protein_name)\n",
        "  seq = row[\"seq\"]\n",
        "  print(seq)"
      ],
      "metadata": {
        "id": "b5bXK4Ylfwsl",
        "outputId": "dc845ee4-3376-4679-8acb-2393ca9f59c3",
        "colab": {
          "base_uri": "https://localhost:8080/"
        }
      },
      "execution_count": 6,
      "outputs": [
        {
          "output_type": "stream",
          "name": "stdout",
          "text": [
            "Class_A_AFAM2492_1_seq_2559\n",
            "MRARLHALERRHGARLGVYAANVRTGATVSHRAGERFALCSTFKPLAAAAILRDRDHHGEFLARTIHYTEHDLVEYSPVTEEHVGTGMRVDALCAAAIRYSDNTAGNLLLRQIGGPAGLTAFCRSLGDPVTRLDRWETDLNSALPGDPRDTTTPAAIGRDYARLVLGDALGREDNALLTEWLLGNTTSGDRFRAGLPDGWRIGDKTGSGDYGTANDVGLAWTTLGTPLVLAVLSTKHAPEADWDDELIAETARLLAHDLAPGE\n",
            "Class_A_AFAM2493_1_seq_2560\n",
            "MRALEERYSARLGVHARNTRTGQSVGYRAGERFALCSTFKVFAAGAVLRDHAGSAPLDKVVRYPDRDILLNSPVTQQHVGSGMTVGELCAAAIRHSDNCAGNLLLRELGGPAGLTAFFRSLGDRVSRLDRWEPDLNSAGPGELRDSTTPEALGASLERLTVGDELSGAAREQLLTWLKGNTTSDRRFRAGLPRGWVVGDKTGTGDYASANDIGVAWTTRGTPLVLVVLTSKDAPDATVDEALIADAAAVLADTLAPGE\n",
            "Class_A_AFAM2494_1_seq_2561\n",
            "MSDLEQRYGARLGVYAHNVRTGRTVAYRAGERFAMCSTFKTFAAAAVLRDHGGCAPLDRVIHYPPRDILPNSPKTEEHLATGMSVGDLCAAAIQYSDNAAGNLLLRQIGGPDGLTRFFRSLGDRVSRLDRWETDLNTAVPGDPRDTTTPEAIGRSFERLTLGRALDGTDREQLVTWLKGNTTSAERFGRGLPQGWVLGDKTGTGDYATANDIGVAWTTRGTPIVLAVLSTKAAKDAPVDNALVADTARLLARTLAPGE\n"
          ]
        }
      ]
    },
    {
      "cell_type": "code",
      "source": [
        "#@title ##run **ESMFold**\n",
        "model_lst = []\n",
        "pae_lst = []\n",
        "plddt_lst = []\n",
        "seq_len_lst = []\n",
        "\n",
        "for idx, row in tqdm(df.iterrows(),  desc = \"Predicting folds with ESMFold\"):\n",
        "  \n",
        "  protein_name = str(row[\"protein_name\"])\n",
        "  seq = str(row[\"seq\"])\n",
        "\n",
        "  jobname = protein_name\n",
        "  jobname = re.sub(r'\\W+', '', jobname)[:50]\n",
        "\n",
        "  sequence = seq\n",
        "  sequence = re.sub(\"[^A-Z:]\", \"\", sequence.replace(\"/\",\":\").upper())\n",
        "  sequence = re.sub(\":+\",\":\",sequence)\n",
        "  sequence = re.sub(\"^[:]+\",\"\",sequence)\n",
        "  sequence = re.sub(\"[:]+$\",\"\",sequence)\n",
        "  copies = 1 \n",
        "  if copies == \"\" or copies <= 0: copies = 1\n",
        "  sequence = \":\".join([sequence] * copies)\n",
        "  num_recycles = 3\n",
        "  chain_linker = 25 \n",
        "\n",
        "  ID = jobname+\"_\"+get_hash(sequence)[:5]\n",
        "  seqs = sequence.split(\":\")\n",
        "  lengths = [len(s) for s in seqs]\n",
        "  length = sum(lengths)\n",
        "\n",
        "  u_seqs = list(set(seqs))\n",
        "  if len(seqs) == 1: mode = \"mono\"\n",
        "  elif len(u_seqs) == 1: mode = \"homo\"\n",
        "  else: mode = \"hetero\"\n",
        "\n",
        "  if \"model\" not in dir():\n",
        "    import torch\n",
        "    model = torch.load(\"esmfold.model\")\n",
        "    model.eval().cuda().requires_grad_(False)\n",
        "\n",
        "  # optimized for Tesla T4\n",
        "  if length > 700:\n",
        "    model.set_chunk_size(64)\n",
        "  else:\n",
        "    model.set_chunk_size(128)\n",
        "\n",
        "  torch.cuda.empty_cache()\n",
        "  output = model.infer(sequence,\n",
        "                       num_recycles=num_recycles,\n",
        "                       chain_linker=\"X\"*chain_linker,\n",
        "                       residue_index_offset=512)\n",
        "\n",
        "  pdb_str = model.output_to_pdb(output)[0]\n",
        "  output = tree_map(lambda x: x.cpu().numpy(), output)\n",
        "  ptm = output[\"ptm\"][0]\n",
        "  plddt = output[\"plddt\"][0,...,1].mean()\n",
        "  O = parse_output(output)\n",
        "  #os.system(f\"mkdir -p {ID}\")\n",
        "  #prefix = f\"{ID}/ptm{ptm:.3f}_r{num_recycles}_default\"\n",
        "  #np.savetxt(f\"{prefix}.pae.txt\",O[\"pae\"],\"%.3f\")\n",
        "  with open(f\"{protein_name}.pdb\",\"w\") as out:\n",
        "    out.write(pdb_str)\n",
        "\n",
        "\n",
        "  model_lst.append(jobname)\n",
        "  pae_lst.append(ptm)\n",
        "  plddt_lst.append(plddt)\n",
        "  \n",
        "  # upload the results to google drive\n",
        "  uploaded = drive.CreateFile({'title': f\"{protein_name}.pdb\", 'parents': [{'id': folder_id}]})\n",
        "  uploaded.SetContentFile(f\"{protein_name}.pdb\")\n",
        "  uploaded.Upload()"
      ],
      "metadata": {
        "cellView": "form",
        "id": "CcyNpAvhTX6q",
        "outputId": "af6c31ab-b06e-46aa-e763-25edc1fc0c90",
        "colab": {
          "base_uri": "https://localhost:8080/"
        }
      },
      "execution_count": null,
      "outputs": [
        {
          "output_type": "stream",
          "name": "stderr",
          "text": [
            "Predicting folds with ESMFold: 154it [1:15:05, 30.04s/it]"
          ]
        }
      ]
    },
    {
      "cell_type": "code",
      "source": [
        "#@title Plot the quality of the models\n",
        "\n",
        "# create the csv\n",
        "df = pd.DataFrame()\n",
        "df[\"model\"] = model_lst\n",
        "df[\"ptm\"] = pae_lst\n",
        "df[\"plddt\"] = plddt_lst\n",
        "\n",
        "# plot \n",
        "fig = px.histogram(df, x=\"model\", y=\"plddt\", title='Model quality', height = 600, width = 800, hover_name=\"model\")\n",
        "fig.update_traces(marker=dict(color = \"red\", size=8, line=dict(width=1, color='black')),selector=dict(mode='markers'))\n",
        "fig.update_layout(template=\"plotly_white\")\n",
        "fig.update_yaxes(showline=True, linewidth=1, linecolor='LightGrey')\n",
        "fig.update_xaxes(showline=True, linewidth=1, linecolor='LightGrey')\n",
        "fig.show()"
      ],
      "metadata": {
        "cellView": "form",
        "id": "UFtXfREnkynA"
      },
      "execution_count": null,
      "outputs": []
    }
  ]
}