{
  "nbformat": 4,
  "nbformat_minor": 0,
  "metadata": {
    "colab": {
      "provenance": []
    },
    "kernelspec": {
      "name": "python3",
      "display_name": "Python 3"
    },
    "language_info": {
      "name": "python"
    },
    "accelerator": "GPU",
    "gpuClass": "standard"
  },
  "cells": [
    {
      "cell_type": "markdown",
      "source": [
        "# Instructions\n",
        "This notebook takes a protein sequence as input and predict a structure model per each amino acid in the sequence with ESMFold. That is, if you gives a sequence of length = 10, it will predict 10 models.\n",
        "\n",
        "**To run this notebook, you will need**:\n",
        "1. Enable the use of a GPU in the google colab enviroment\n",
        "2. A directory in your google drive to save the models (`folder_id`)\n",
        "3. A protein sequence (`sequence`)\n",
        "4. A protein name (`jobname`)\n",
        "\n",
        "\n",
        "Inspired by: \n",
        "- https://twitter.com/MartinPacesa/status/1640005299124707328\n",
        "\n",
        "The code was adapted from the ESMFold notebook of ColabFold\n",
        "- https://github.com/sokrypton/ColabFold \n",
        "\n",
        "Notebook made by GAMA\n",
        "- https://twitter.com/miangoar\n",
        "\n"
      ],
      "metadata": {
        "id": "3d37iO4nqbix"
      }
    },
    {
      "cell_type": "code",
      "source": [
        "#@title Install libraries\n",
        "\n",
        "import os, time\n",
        "if not os.path.isfile(\"esmfold.model\"):\n",
        "  # download esmfold params\n",
        "  os.system(\"apt-get install aria2 -qq\")\n",
        "  os.system(\"aria2c -q -x 16 https://colabfold.steineggerlab.workers.dev/esm/esmfold.model &\")\n",
        "\n",
        "  # install libs\n",
        "  os.system(\"pip install -q omegaconf pytorch_lightning biopython ml_collections einops py3Dmol\")\n",
        "  os.system(\"pip install -q git+https://github.com/NVIDIA/dllogger.git\")\n",
        "\n",
        "  # install openfold\n",
        "  commit = \"6908936b68ae89f67755240e2f588c09ec31d4c8\"\n",
        "  os.system(f\"pip install -q git+https://github.com/aqlaboratory/openfold.git@{commit}\")\n",
        "\n",
        "  # install esmfold\n",
        "  os.system(f\"pip install -q git+https://github.com/sokrypton/esm.git\")\n",
        "\n",
        "  # wait for Params to finish downloading...\n",
        "  if not os.path.isfile(\"esmfold.model\"):\n",
        "    # backup source!\n",
        "    os.system(\"aria2c -q -x 16 https://files.ipd.uw.edu/pub/esmfold/esmfold.model\")\n",
        "  else:\n",
        "    while os.path.isfile(\"esmfold.model.aria2\"):\n",
        "      time.sleep(5)"
      ],
      "metadata": {
        "cellView": "form",
        "id": "lTK06QemqYC4"
      },
      "execution_count": null,
      "outputs": []
    },
    {
      "cell_type": "code",
      "execution_count": null,
      "metadata": {
        "cellView": "form",
        "id": "TZdhjkC4qRjE"
      },
      "outputs": [],
      "source": [
        "#@title Set the environment and connect to google drive\n",
        "\n",
        "# import libs \n",
        "from pydrive.drive import GoogleDrive\n",
        "from pydrive.auth import GoogleAuth\n",
        "from google.colab import auth\n",
        "from oauth2client.client import GoogleCredentials\n",
        "from tqdm import tqdm\n",
        "import pandas as pd\n",
        "import plotly.express as px\n",
        "from google.colab import files\n",
        "\n",
        "# google drive login\n",
        "auth.authenticate_user()\n",
        "gauth = GoogleAuth()\n",
        "gauth.credentials = GoogleCredentials.get_application_default()\n",
        "drive = GoogleDrive(gauth)\n",
        "\n",
        "\n",
        "# import libs to use ESMFold \n",
        "from string import ascii_uppercase, ascii_lowercase\n",
        "import hashlib, re, os\n",
        "import numpy as np\n",
        "from jax.tree_util import tree_map\n",
        "import matplotlib.pyplot as plt\n",
        "from scipy.special import softmax\n",
        "\n",
        "# create functions to do the structure predictions\n",
        "def parse_output(output):\n",
        "  pae = (output[\"aligned_confidence_probs\"][0] * np.arange(64)).mean(-1) * 31\n",
        "  plddt = output[\"plddt\"][0,:,1]\n",
        "  \n",
        "  bins = np.append(0,np.linspace(2.3125,21.6875,63))\n",
        "  sm_contacts = softmax(output[\"distogram_logits\"],-1)[0]\n",
        "  sm_contacts = sm_contacts[...,bins<8].sum(-1)\n",
        "  xyz = output[\"positions\"][-1,0,:,1]\n",
        "  mask = output[\"atom37_atom_exists\"][0,:,1] == 1\n",
        "  o = {\"pae\":pae[mask,:][:,mask],\n",
        "       \"plddt\":plddt[mask],\n",
        "       \"sm_contacts\":sm_contacts[mask,:][:,mask],\n",
        "       \"xyz\":xyz[mask]}\n",
        "  return o\n",
        "\n",
        "def get_hash(x): return hashlib.sha1(x.encode()).hexdigest()\n",
        "alphabet_list = list(ascii_uppercase+ascii_lowercase)"
      ]
    },
    {
      "cell_type": "code",
      "source": [
        "#@title Set directory in google drive to save the PDBs\n",
        "#@markdown You have to create it in your google drive session\n",
        "\n",
        "# get the name of the dir\n",
        "folder_id = 'ESMFold_results' #@param {type:\"string\"}\n",
        "file_list = drive.ListFile({'q': \"mimeType='application/vnd.google-apps.folder' and trashed=false\"}).GetList()\n",
        "for file in file_list:\n",
        "    if file['title'] == folder_id:\n",
        "        folder_id = file['id']\n",
        "        break"
      ],
      "metadata": {
        "cellView": "form",
        "id": "DxEe7BIpDUUZ"
      },
      "execution_count": null,
      "outputs": []
    },
    {
      "cell_type": "code",
      "source": [
        "#@title Structure prediction\n",
        "#@markdown For example, the Top7 protein: https://www.rcsb.org/structure/1qys\n",
        "\n",
        "# set a seq to predict\n",
        "sequence = 'MGDIQVQVNIDDNGKNFDYTYTVTTESELQKVLNELMDYIKKQGAKRVRISITARTKKEAEKFAAILIKVFAELGYNDINVTFDGDTVTVEGQLEGGSLEHHHHHH' #@param {type:\"string\"}\n",
        "\n",
        "# to sample data results\n",
        "pae_lst = []\n",
        "plddt_lst = []\n",
        "model_lst = []\n",
        "seq_len_lst = []\n",
        "\n",
        "# do the structural preds\n",
        "for i in tqdm(range(len(sequence)-3),  desc = \"Predicting folds with ESMFold\"):\n",
        "    sequence = sequence[:-1]\n",
        "    seq_len = len(sequence)\n",
        "    jobname = \"Top7\" #@param {type:\"string\"}\n",
        "    jobname = jobname + \"_\" + str(seq_len).zfill(5)\n",
        "    jobname = re.sub(r'\\W+', '', jobname)[:50]\n",
        "    \n",
        "    sequence = re.sub(\"[^A-Z:]\", \"\", sequence.replace(\"/\",\":\").upper())\n",
        "    sequence = re.sub(\":+\",\":\",sequence)\n",
        "    sequence = re.sub(\"^[:]+\",\"\",sequence)\n",
        "    sequence = re.sub(\"[:]+$\",\"\",sequence)\n",
        "    copies = 1 \n",
        "    if copies == \"\" or copies <= 0: copies = 1\n",
        "    sequence = \":\".join([sequence] * copies)\n",
        "    num_recycles = 3 \n",
        "    chain_linker = 25 \n",
        "\n",
        "    ID = jobname+\"_\"+get_hash(sequence)[:5]\n",
        "    seqs = sequence.split(\":\")\n",
        "    lengths = [len(s) for s in seqs]\n",
        "    length = sum(lengths)\n",
        "\n",
        "    u_seqs = list(set(seqs))\n",
        "    if len(seqs) == 1: mode = \"mono\"\n",
        "    elif len(u_seqs) == 1: mode = \"homo\"\n",
        "    else: mode = \"hetero\"\n",
        "\n",
        "    if \"model\" not in dir():\n",
        "      import torch\n",
        "      model = torch.load(\"esmfold.model\")\n",
        "      model.eval().cuda().requires_grad_(False)\n",
        "\n",
        "    # optimized for Tesla T4\n",
        "    if length > 700:\n",
        "      model.set_chunk_size(64)\n",
        "    else:\n",
        "      model.set_chunk_size(128)\n",
        "\n",
        "    torch.cuda.empty_cache()\n",
        "    output = model.infer(sequence,\n",
        "                        num_recycles=num_recycles,\n",
        "                        chain_linker=\"X\"*chain_linker,\n",
        "                        residue_index_offset=512)\n",
        "\n",
        "    pdb_str = model.output_to_pdb(output)[0]\n",
        "    output = tree_map(lambda x: x.cpu().numpy(), output)\n",
        "    ptm = output[\"ptm\"][0]\n",
        "    plddt = output[\"plddt\"][0,...,1].mean()\n",
        "    O = parse_output(output)\n",
        "    prefix = f\"{jobname}\"\n",
        "    with open(f\"{prefix}.pdb\",\"w\") as out:\n",
        "      out.write(pdb_str)\n",
        "\n",
        "    model_lst.append(jobname)\n",
        "    pae_lst.append(ptm)\n",
        "    plddt_lst.append(plddt)\n",
        "    seq_len_lst.append(seq_len)\n",
        "\n",
        "    # upload the results to google drive\n",
        "    uploaded = drive.CreateFile({'title': f\"{jobname}.pdb\", 'parents': [{'id': folder_id}]})\n",
        "    uploaded.SetContentFile(f\"{jobname}.pdb\")\n",
        "    uploaded.Upload()"
      ],
      "metadata": {
        "colab": {
          "base_uri": "https://localhost:8080/"
        },
        "cellView": "form",
        "id": "gcCMEMyFqX94",
        "outputId": "a0f1115f-8746-4974-f2b4-ea930c4e4e38"
      },
      "execution_count": null,
      "outputs": [
        {
          "output_type": "stream",
          "name": "stderr",
          "text": [
            "Predicting folds with ESMFold: 100%|██████████| 103/103 [06:08<00:00,  3.58s/it]\n"
          ]
        }
      ]
    },
    {
      "cell_type": "code",
      "source": [
        "#@title Plot the quality of the models\n",
        "\n",
        "# create the csv\n",
        "df = pd.DataFrame()\n",
        "df[\"model\"] = model_lst\n",
        "df[\"ptm\"] = pae_lst\n",
        "df[\"plddt\"] = plddt_lst\n",
        "df[\"number_of_aa\"] = seq_len_lst\n",
        "df.to_csv('sequentially_ESMFold_results.csv', index=False)\n",
        "\n",
        "# plot \n",
        "fig = px.scatter(df, x=\"number_of_aa\", y=\"plddt\", title='Model quality', height = 600, width = 1400, hover_name=\"model\")\n",
        "fig.update_traces(marker=dict(color = \"red\", size=8, line=dict(width=1, color='black')),selector=dict(mode='markers'))\n",
        "fig.update_layout(template=\"plotly_white\")\n",
        "fig.update_yaxes(showline=True, linewidth=1, linecolor='LightGrey')\n",
        "fig.update_xaxes(showline=True, linewidth=1, linecolor='LightGrey')\n",
        "fig.add_shape(type=\"line\",x0=0, y0=90, x1=df['number_of_aa'].max(), y1=90,line=dict(color=\"darkblue\", width=3), opacity = 0.5, line_dash=\"dash\")\n",
        "fig.add_shape(type=\"line\",x0=0, y0=70, x1=df['number_of_aa'].max(), y1=70,line=dict(color=\"lightskyblue\", width=3), opacity = 0.5, line_dash=\"dash\")\n",
        "fig.add_shape(type=\"line\",x0=0, y0=50, x1=df['number_of_aa'].max(), y1=50,line=dict(color=\"yellow\", width=3), opacity = 0.8, line_dash=\"dash\")\n",
        "fig.show()"
      ],
      "metadata": {
        "colab": {
          "base_uri": "https://localhost:8080/",
          "height": 617
        },
        "cellView": "form",
        "id": "nFVTaHgRqYAX",
        "outputId": "67cd9f36-b3a5-461c-c880-86e3c11af277"
      },
      "execution_count": null,
      "outputs": [
        {
          "output_type": "display_data",
          "data": {
            "text/html": [
              "<html>\n",
              "<head><meta charset=\"utf-8\" /></head>\n",
              "<body>\n",
              "    <div>            <script src=\"https://cdnjs.cloudflare.com/ajax/libs/mathjax/2.7.5/MathJax.js?config=TeX-AMS-MML_SVG\"></script><script type=\"text/javascript\">if (window.MathJax && window.MathJax.Hub && window.MathJax.Hub.Config) {window.MathJax.Hub.Config({SVG: {font: \"STIX-Web\"}});}</script>                <script type=\"text/javascript\">window.PlotlyConfig = {MathJaxConfig: 'local'};</script>\n",
              "        <script src=\"https://cdn.plot.ly/plotly-2.18.2.min.js\"></script>                <div id=\"f632bccf-e51e-433c-8cb1-a0d2d9c609a8\" class=\"plotly-graph-div\" style=\"height:600px; width:1400px;\"></div>            <script type=\"text/javascript\">                                    window.PLOTLYENV=window.PLOTLYENV || {};                                    if (document.getElementById(\"f632bccf-e51e-433c-8cb1-a0d2d9c609a8\")) {                    Plotly.newPlot(                        \"f632bccf-e51e-433c-8cb1-a0d2d9c609a8\",                        [{\"hovertemplate\":\"<b>%{hovertext}</b><br><br>number_of_aa=%{x}<br>plddt=%{y}<extra></extra>\",\"hovertext\":[\"Top7_00105\",\"Top7_00104\",\"Top7_00103\",\"Top7_00102\",\"Top7_00101\",\"Top7_00100\",\"Top7_00099\",\"Top7_00098\",\"Top7_00097\",\"Top7_00096\",\"Top7_00095\",\"Top7_00094\",\"Top7_00093\",\"Top7_00092\",\"Top7_00091\",\"Top7_00090\",\"Top7_00089\",\"Top7_00088\",\"Top7_00087\",\"Top7_00086\",\"Top7_00085\",\"Top7_00084\",\"Top7_00083\",\"Top7_00082\",\"Top7_00081\",\"Top7_00080\",\"Top7_00079\",\"Top7_00078\",\"Top7_00077\",\"Top7_00076\",\"Top7_00075\",\"Top7_00074\",\"Top7_00073\",\"Top7_00072\",\"Top7_00071\",\"Top7_00070\",\"Top7_00069\",\"Top7_00068\",\"Top7_00067\",\"Top7_00066\",\"Top7_00065\",\"Top7_00064\",\"Top7_00063\",\"Top7_00062\",\"Top7_00061\",\"Top7_00060\",\"Top7_00059\",\"Top7_00058\",\"Top7_00057\",\"Top7_00056\",\"Top7_00055\",\"Top7_00054\",\"Top7_00053\",\"Top7_00052\",\"Top7_00051\",\"Top7_00050\",\"Top7_00049\",\"Top7_00048\",\"Top7_00047\",\"Top7_00046\",\"Top7_00045\",\"Top7_00044\",\"Top7_00043\",\"Top7_00042\",\"Top7_00041\",\"Top7_00040\",\"Top7_00039\",\"Top7_00038\",\"Top7_00037\",\"Top7_00036\",\"Top7_00035\",\"Top7_00034\",\"Top7_00033\",\"Top7_00032\",\"Top7_00031\",\"Top7_00030\",\"Top7_00029\",\"Top7_00028\",\"Top7_00027\",\"Top7_00026\",\"Top7_00025\",\"Top7_00024\",\"Top7_00023\",\"Top7_00022\",\"Top7_00021\",\"Top7_00020\",\"Top7_00019\",\"Top7_00018\",\"Top7_00017\",\"Top7_00016\",\"Top7_00015\",\"Top7_00014\",\"Top7_00013\",\"Top7_00012\",\"Top7_00011\",\"Top7_00010\",\"Top7_00009\",\"Top7_00008\",\"Top7_00007\",\"Top7_00006\",\"Top7_00005\",\"Top7_00004\",\"Top7_00003\"],\"legendgroup\":\"\",\"marker\":{\"color\":\"red\",\"symbol\":\"circle\",\"line\":{\"color\":\"black\",\"width\":1},\"size\":8},\"mode\":\"markers\",\"name\":\"\",\"orientation\":\"v\",\"showlegend\":false,\"x\":[105,104,103,102,101,100,99,98,97,96,95,94,93,92,91,90,89,88,87,86,85,84,83,82,81,80,79,78,77,76,75,74,73,72,71,70,69,68,67,66,65,64,63,62,61,60,59,58,57,56,55,54,53,52,51,50,49,48,47,46,45,44,43,42,41,40,39,38,37,36,35,34,33,32,31,30,29,28,27,26,25,24,23,22,21,20,19,18,17,16,15,14,13,12,11,10,9,8,7,6,5,4,3],\"xaxis\":\"x\",\"y\":[81.35150909423828,81.70315551757812,82.27235412597656,82.73654174804688,83.34552001953125,83.87657928466797,84.51188659667969,84.9357681274414,85.97233581542969,86.79928588867188,87.43728637695312,87.94680786132812,88.26148986816406,88.76783752441406,81.96096801757812,70.78045654296875,70.43391418457031,73.67639923095703,70.07325744628906,71.38430786132812,71.17912292480469,71.7291488647461,72.86402130126953,74.2412338256836,75.15267181396484,74.90101623535156,76.92926025390625,79.81948852539062,80.83320617675781,81.4774398803711,82.33734130859375,83.85505676269531,84.09365844726562,84.39241027832031,84.18937683105469,83.46880340576172,78.16307067871094,77.46707916259766,77.7551498413086,77.16973876953125,71.198974609375,71.36859130859375,74.48435974121094,70.8867416381836,79.72515106201172,81.26544952392578,76.2551040649414,76.69207000732422,76.86721801757812,80.01243591308594,79.2138442993164,79.80883026123047,80.0363540649414,79.35587310791016,73.78734588623047,76.02947998046875,78.15499877929688,77.12094116210938,81.34137725830078,79.71642303466797,80.48538208007812,80.35645294189453,80.1550064086914,80.60858917236328,80.64138793945312,79.98041534423828,78.4327163696289,77.82969665527344,77.080810546875,76.77079772949219,77.15797424316406,77.0598373413086,76.79039001464844,73.20736694335938,72.41881561279297,73.54694366455078,79.56494903564453,76.02132415771484,79.40313720703125,80.40580749511719,84.2295913696289,79.36257934570312,77.29214477539062,70.1388168334961,64.4383544921875,71.7228775024414,74.53749084472656,74.49555969238281,75.7707748413086,76.64884948730469,77.99425506591797,81.56244659423828,84.38572692871094,84.92339324951172,86.24431610107422,82.10111236572266,84.41383361816406,81.17909240722656,79.74424743652344,77.0835189819336,68.56668853759766,67.3199234008789,63.838958740234375],\"yaxis\":\"y\",\"type\":\"scatter\"}],                        {\"template\":{\"data\":{\"barpolar\":[{\"marker\":{\"line\":{\"color\":\"white\",\"width\":0.5},\"pattern\":{\"fillmode\":\"overlay\",\"size\":10,\"solidity\":0.2}},\"type\":\"barpolar\"}],\"bar\":[{\"error_x\":{\"color\":\"#2a3f5f\"},\"error_y\":{\"color\":\"#2a3f5f\"},\"marker\":{\"line\":{\"color\":\"white\",\"width\":0.5},\"pattern\":{\"fillmode\":\"overlay\",\"size\":10,\"solidity\":0.2}},\"type\":\"bar\"}],\"carpet\":[{\"aaxis\":{\"endlinecolor\":\"#2a3f5f\",\"gridcolor\":\"#C8D4E3\",\"linecolor\":\"#C8D4E3\",\"minorgridcolor\":\"#C8D4E3\",\"startlinecolor\":\"#2a3f5f\"},\"baxis\":{\"endlinecolor\":\"#2a3f5f\",\"gridcolor\":\"#C8D4E3\",\"linecolor\":\"#C8D4E3\",\"minorgridcolor\":\"#C8D4E3\",\"startlinecolor\":\"#2a3f5f\"},\"type\":\"carpet\"}],\"choropleth\":[{\"colorbar\":{\"outlinewidth\":0,\"ticks\":\"\"},\"type\":\"choropleth\"}],\"contourcarpet\":[{\"colorbar\":{\"outlinewidth\":0,\"ticks\":\"\"},\"type\":\"contourcarpet\"}],\"contour\":[{\"colorbar\":{\"outlinewidth\":0,\"ticks\":\"\"},\"colorscale\":[[0.0,\"#0d0887\"],[0.1111111111111111,\"#46039f\"],[0.2222222222222222,\"#7201a8\"],[0.3333333333333333,\"#9c179e\"],[0.4444444444444444,\"#bd3786\"],[0.5555555555555556,\"#d8576b\"],[0.6666666666666666,\"#ed7953\"],[0.7777777777777778,\"#fb9f3a\"],[0.8888888888888888,\"#fdca26\"],[1.0,\"#f0f921\"]],\"type\":\"contour\"}],\"heatmapgl\":[{\"colorbar\":{\"outlinewidth\":0,\"ticks\":\"\"},\"colorscale\":[[0.0,\"#0d0887\"],[0.1111111111111111,\"#46039f\"],[0.2222222222222222,\"#7201a8\"],[0.3333333333333333,\"#9c179e\"],[0.4444444444444444,\"#bd3786\"],[0.5555555555555556,\"#d8576b\"],[0.6666666666666666,\"#ed7953\"],[0.7777777777777778,\"#fb9f3a\"],[0.8888888888888888,\"#fdca26\"],[1.0,\"#f0f921\"]],\"type\":\"heatmapgl\"}],\"heatmap\":[{\"colorbar\":{\"outlinewidth\":0,\"ticks\":\"\"},\"colorscale\":[[0.0,\"#0d0887\"],[0.1111111111111111,\"#46039f\"],[0.2222222222222222,\"#7201a8\"],[0.3333333333333333,\"#9c179e\"],[0.4444444444444444,\"#bd3786\"],[0.5555555555555556,\"#d8576b\"],[0.6666666666666666,\"#ed7953\"],[0.7777777777777778,\"#fb9f3a\"],[0.8888888888888888,\"#fdca26\"],[1.0,\"#f0f921\"]],\"type\":\"heatmap\"}],\"histogram2dcontour\":[{\"colorbar\":{\"outlinewidth\":0,\"ticks\":\"\"},\"colorscale\":[[0.0,\"#0d0887\"],[0.1111111111111111,\"#46039f\"],[0.2222222222222222,\"#7201a8\"],[0.3333333333333333,\"#9c179e\"],[0.4444444444444444,\"#bd3786\"],[0.5555555555555556,\"#d8576b\"],[0.6666666666666666,\"#ed7953\"],[0.7777777777777778,\"#fb9f3a\"],[0.8888888888888888,\"#fdca26\"],[1.0,\"#f0f921\"]],\"type\":\"histogram2dcontour\"}],\"histogram2d\":[{\"colorbar\":{\"outlinewidth\":0,\"ticks\":\"\"},\"colorscale\":[[0.0,\"#0d0887\"],[0.1111111111111111,\"#46039f\"],[0.2222222222222222,\"#7201a8\"],[0.3333333333333333,\"#9c179e\"],[0.4444444444444444,\"#bd3786\"],[0.5555555555555556,\"#d8576b\"],[0.6666666666666666,\"#ed7953\"],[0.7777777777777778,\"#fb9f3a\"],[0.8888888888888888,\"#fdca26\"],[1.0,\"#f0f921\"]],\"type\":\"histogram2d\"}],\"histogram\":[{\"marker\":{\"pattern\":{\"fillmode\":\"overlay\",\"size\":10,\"solidity\":0.2}},\"type\":\"histogram\"}],\"mesh3d\":[{\"colorbar\":{\"outlinewidth\":0,\"ticks\":\"\"},\"type\":\"mesh3d\"}],\"parcoords\":[{\"line\":{\"colorbar\":{\"outlinewidth\":0,\"ticks\":\"\"}},\"type\":\"parcoords\"}],\"pie\":[{\"automargin\":true,\"type\":\"pie\"}],\"scatter3d\":[{\"line\":{\"colorbar\":{\"outlinewidth\":0,\"ticks\":\"\"}},\"marker\":{\"colorbar\":{\"outlinewidth\":0,\"ticks\":\"\"}},\"type\":\"scatter3d\"}],\"scattercarpet\":[{\"marker\":{\"colorbar\":{\"outlinewidth\":0,\"ticks\":\"\"}},\"type\":\"scattercarpet\"}],\"scattergeo\":[{\"marker\":{\"colorbar\":{\"outlinewidth\":0,\"ticks\":\"\"}},\"type\":\"scattergeo\"}],\"scattergl\":[{\"marker\":{\"colorbar\":{\"outlinewidth\":0,\"ticks\":\"\"}},\"type\":\"scattergl\"}],\"scattermapbox\":[{\"marker\":{\"colorbar\":{\"outlinewidth\":0,\"ticks\":\"\"}},\"type\":\"scattermapbox\"}],\"scatterpolargl\":[{\"marker\":{\"colorbar\":{\"outlinewidth\":0,\"ticks\":\"\"}},\"type\":\"scatterpolargl\"}],\"scatterpolar\":[{\"marker\":{\"colorbar\":{\"outlinewidth\":0,\"ticks\":\"\"}},\"type\":\"scatterpolar\"}],\"scatter\":[{\"fillpattern\":{\"fillmode\":\"overlay\",\"size\":10,\"solidity\":0.2},\"type\":\"scatter\"}],\"scatterternary\":[{\"marker\":{\"colorbar\":{\"outlinewidth\":0,\"ticks\":\"\"}},\"type\":\"scatterternary\"}],\"surface\":[{\"colorbar\":{\"outlinewidth\":0,\"ticks\":\"\"},\"colorscale\":[[0.0,\"#0d0887\"],[0.1111111111111111,\"#46039f\"],[0.2222222222222222,\"#7201a8\"],[0.3333333333333333,\"#9c179e\"],[0.4444444444444444,\"#bd3786\"],[0.5555555555555556,\"#d8576b\"],[0.6666666666666666,\"#ed7953\"],[0.7777777777777778,\"#fb9f3a\"],[0.8888888888888888,\"#fdca26\"],[1.0,\"#f0f921\"]],\"type\":\"surface\"}],\"table\":[{\"cells\":{\"fill\":{\"color\":\"#EBF0F8\"},\"line\":{\"color\":\"white\"}},\"header\":{\"fill\":{\"color\":\"#C8D4E3\"},\"line\":{\"color\":\"white\"}},\"type\":\"table\"}]},\"layout\":{\"annotationdefaults\":{\"arrowcolor\":\"#2a3f5f\",\"arrowhead\":0,\"arrowwidth\":1},\"autotypenumbers\":\"strict\",\"coloraxis\":{\"colorbar\":{\"outlinewidth\":0,\"ticks\":\"\"}},\"colorscale\":{\"diverging\":[[0,\"#8e0152\"],[0.1,\"#c51b7d\"],[0.2,\"#de77ae\"],[0.3,\"#f1b6da\"],[0.4,\"#fde0ef\"],[0.5,\"#f7f7f7\"],[0.6,\"#e6f5d0\"],[0.7,\"#b8e186\"],[0.8,\"#7fbc41\"],[0.9,\"#4d9221\"],[1,\"#276419\"]],\"sequential\":[[0.0,\"#0d0887\"],[0.1111111111111111,\"#46039f\"],[0.2222222222222222,\"#7201a8\"],[0.3333333333333333,\"#9c179e\"],[0.4444444444444444,\"#bd3786\"],[0.5555555555555556,\"#d8576b\"],[0.6666666666666666,\"#ed7953\"],[0.7777777777777778,\"#fb9f3a\"],[0.8888888888888888,\"#fdca26\"],[1.0,\"#f0f921\"]],\"sequentialminus\":[[0.0,\"#0d0887\"],[0.1111111111111111,\"#46039f\"],[0.2222222222222222,\"#7201a8\"],[0.3333333333333333,\"#9c179e\"],[0.4444444444444444,\"#bd3786\"],[0.5555555555555556,\"#d8576b\"],[0.6666666666666666,\"#ed7953\"],[0.7777777777777778,\"#fb9f3a\"],[0.8888888888888888,\"#fdca26\"],[1.0,\"#f0f921\"]]},\"colorway\":[\"#636efa\",\"#EF553B\",\"#00cc96\",\"#ab63fa\",\"#FFA15A\",\"#19d3f3\",\"#FF6692\",\"#B6E880\",\"#FF97FF\",\"#FECB52\"],\"font\":{\"color\":\"#2a3f5f\"},\"geo\":{\"bgcolor\":\"white\",\"lakecolor\":\"white\",\"landcolor\":\"white\",\"showlakes\":true,\"showland\":true,\"subunitcolor\":\"#C8D4E3\"},\"hoverlabel\":{\"align\":\"left\"},\"hovermode\":\"closest\",\"mapbox\":{\"style\":\"light\"},\"paper_bgcolor\":\"white\",\"plot_bgcolor\":\"white\",\"polar\":{\"angularaxis\":{\"gridcolor\":\"#EBF0F8\",\"linecolor\":\"#EBF0F8\",\"ticks\":\"\"},\"bgcolor\":\"white\",\"radialaxis\":{\"gridcolor\":\"#EBF0F8\",\"linecolor\":\"#EBF0F8\",\"ticks\":\"\"}},\"scene\":{\"xaxis\":{\"backgroundcolor\":\"white\",\"gridcolor\":\"#DFE8F3\",\"gridwidth\":2,\"linecolor\":\"#EBF0F8\",\"showbackground\":true,\"ticks\":\"\",\"zerolinecolor\":\"#EBF0F8\"},\"yaxis\":{\"backgroundcolor\":\"white\",\"gridcolor\":\"#DFE8F3\",\"gridwidth\":2,\"linecolor\":\"#EBF0F8\",\"showbackground\":true,\"ticks\":\"\",\"zerolinecolor\":\"#EBF0F8\"},\"zaxis\":{\"backgroundcolor\":\"white\",\"gridcolor\":\"#DFE8F3\",\"gridwidth\":2,\"linecolor\":\"#EBF0F8\",\"showbackground\":true,\"ticks\":\"\",\"zerolinecolor\":\"#EBF0F8\"}},\"shapedefaults\":{\"line\":{\"color\":\"#2a3f5f\"}},\"ternary\":{\"aaxis\":{\"gridcolor\":\"#DFE8F3\",\"linecolor\":\"#A2B1C6\",\"ticks\":\"\"},\"baxis\":{\"gridcolor\":\"#DFE8F3\",\"linecolor\":\"#A2B1C6\",\"ticks\":\"\"},\"bgcolor\":\"white\",\"caxis\":{\"gridcolor\":\"#DFE8F3\",\"linecolor\":\"#A2B1C6\",\"ticks\":\"\"}},\"title\":{\"x\":0.05},\"xaxis\":{\"automargin\":true,\"gridcolor\":\"#EBF0F8\",\"linecolor\":\"#EBF0F8\",\"ticks\":\"\",\"title\":{\"standoff\":15},\"zerolinecolor\":\"#EBF0F8\",\"zerolinewidth\":2},\"yaxis\":{\"automargin\":true,\"gridcolor\":\"#EBF0F8\",\"linecolor\":\"#EBF0F8\",\"ticks\":\"\",\"title\":{\"standoff\":15},\"zerolinecolor\":\"#EBF0F8\",\"zerolinewidth\":2}}},\"xaxis\":{\"anchor\":\"y\",\"domain\":[0.0,1.0],\"title\":{\"text\":\"number_of_aa\"},\"showline\":true,\"linewidth\":1,\"linecolor\":\"LightGrey\"},\"yaxis\":{\"anchor\":\"x\",\"domain\":[0.0,1.0],\"title\":{\"text\":\"plddt\"},\"showline\":true,\"linewidth\":1,\"linecolor\":\"LightGrey\"},\"legend\":{\"tracegroupgap\":0},\"title\":{\"text\":\"Model quality\"},\"height\":600,\"width\":1400,\"shapes\":[{\"line\":{\"color\":\"darkblue\",\"dash\":\"dash\",\"width\":3},\"opacity\":0.5,\"type\":\"line\",\"x0\":0,\"x1\":105,\"y0\":90,\"y1\":90},{\"line\":{\"color\":\"lightskyblue\",\"dash\":\"dash\",\"width\":3},\"opacity\":0.5,\"type\":\"line\",\"x0\":0,\"x1\":105,\"y0\":70,\"y1\":70},{\"line\":{\"color\":\"yellow\",\"dash\":\"dash\",\"width\":3},\"opacity\":0.8,\"type\":\"line\",\"x0\":0,\"x1\":105,\"y0\":50,\"y1\":50}]},                        {\"responsive\": true}                    ).then(function(){\n",
              "                            \n",
              "var gd = document.getElementById('f632bccf-e51e-433c-8cb1-a0d2d9c609a8');\n",
              "var x = new MutationObserver(function (mutations, observer) {{\n",
              "        var display = window.getComputedStyle(gd).display;\n",
              "        if (!display || display === 'none') {{\n",
              "            console.log([gd, 'removed!']);\n",
              "            Plotly.purge(gd);\n",
              "            observer.disconnect();\n",
              "        }}\n",
              "}});\n",
              "\n",
              "// Listen for the removal of the full notebook cells\n",
              "var notebookContainer = gd.closest('#notebook-container');\n",
              "if (notebookContainer) {{\n",
              "    x.observe(notebookContainer, {childList: true});\n",
              "}}\n",
              "\n",
              "// Listen for the clearing of the current output cell\n",
              "var outputEl = gd.closest('.output');\n",
              "if (outputEl) {{\n",
              "    x.observe(outputEl, {childList: true});\n",
              "}}\n",
              "\n",
              "                        })                };                            </script>        </div>\n",
              "</body>\n",
              "</html>"
            ]
          },
          "metadata": {}
        }
      ]
    },
    {
      "cell_type": "code",
      "source": [
        "#@title (Optional) Download a CSV with the data\n",
        "files.download('sequentially_ESMFold_results.csv')"
      ],
      "metadata": {
        "colab": {
          "base_uri": "https://localhost:8080/",
          "height": 17
        },
        "cellView": "form",
        "id": "xVXaXIsUqYLR",
        "outputId": "aeb83806-1e4a-4ad7-ff35-34eb796654a3"
      },
      "execution_count": null,
      "outputs": [
        {
          "output_type": "display_data",
          "data": {
            "text/plain": [
              "<IPython.core.display.Javascript object>"
            ],
            "application/javascript": [
              "\n",
              "    async function download(id, filename, size) {\n",
              "      if (!google.colab.kernel.accessAllowed) {\n",
              "        return;\n",
              "      }\n",
              "      const div = document.createElement('div');\n",
              "      const label = document.createElement('label');\n",
              "      label.textContent = `Downloading \"${filename}\": `;\n",
              "      div.appendChild(label);\n",
              "      const progress = document.createElement('progress');\n",
              "      progress.max = size;\n",
              "      div.appendChild(progress);\n",
              "      document.body.appendChild(div);\n",
              "\n",
              "      const buffers = [];\n",
              "      let downloaded = 0;\n",
              "\n",
              "      const channel = await google.colab.kernel.comms.open(id);\n",
              "      // Send a message to notify the kernel that we're ready.\n",
              "      channel.send({})\n",
              "\n",
              "      for await (const message of channel.messages) {\n",
              "        // Send a message to notify the kernel that we're ready.\n",
              "        channel.send({})\n",
              "        if (message.buffers) {\n",
              "          for (const buffer of message.buffers) {\n",
              "            buffers.push(buffer);\n",
              "            downloaded += buffer.byteLength;\n",
              "            progress.value = downloaded;\n",
              "          }\n",
              "        }\n",
              "      }\n",
              "      const blob = new Blob(buffers, {type: 'application/binary'});\n",
              "      const a = document.createElement('a');\n",
              "      a.href = window.URL.createObjectURL(blob);\n",
              "      a.download = filename;\n",
              "      div.appendChild(a);\n",
              "      a.click();\n",
              "      div.remove();\n",
              "    }\n",
              "  "
            ]
          },
          "metadata": {}
        },
        {
          "output_type": "display_data",
          "data": {
            "text/plain": [
              "<IPython.core.display.Javascript object>"
            ],
            "application/javascript": [
              "download(\"download_158e92d9-5e27-4074-acbb-e02bd3801385\", \"sequentially_ESMFold_results.csv\", 3511)"
            ]
          },
          "metadata": {}
        }
      ]
    },
    {
      "cell_type": "markdown",
      "source": [
        "# Make a movie with ChimeraX"
      ],
      "metadata": {
        "id": "U82fgEVz8XbH"
      }
    },
    {
      "cell_type": "markdown",
      "source": [
        "To record our movie we need to download all of the PDBs saved in google drive. Then, open ChimeraX and run the next commands (assuming you´re using a machine with Windows 11):\n",
        "\n",
        "1. open all PDB files in the directory ESMFold_results\n",
        "\n",
        "  `open C:\\Desktop\\ESMFold_results\\*.pdb`\n",
        "\n",
        "2. Align the structures (take into account the order and number of your models models, here an example for 100 PDBs)\n",
        "\n",
        "  `matchmaker #2-99 to #100`\n",
        "\n",
        "3. (optional) Set de style of the structures\n",
        "\n",
        "  `sel #0-100; rainbow res; graphics silhouettes true width 2`\n",
        "\n",
        "1. Run the make_chimerax_movie.py script to record a movie\n",
        "\n",
        "  `runscript C:\\Desktop\\make_chimerax_movie.py`\n",
        "\n",
        "  **Note: take care about your paths (C:\\Desktop\\ is only for windows users)** \n"
      ],
      "metadata": {
        "id": "afKXFrFV8eJ6"
      }
    },
    {
      "cell_type": "markdown",
      "source": [
        "## make_chimerax_movie.py \n",
        "\n",
        "Code provided by Martin Pacesa:\n",
        "- https://twitter.com/MartinPacesa/status/1640234188874952704 "
      ],
      "metadata": {
        "id": "szjNJRwY_g_g"
      }
    },
    {
      "cell_type": "markdown",
      "source": [
        "Copy and paste the next code into a script called `make_chimerax_movie.py`, and save it into your desktop (or any other directory of your preference)"
      ],
      "metadata": {
        "id": "iQN-3Slu_nKR"
      }
    },
    {
      "cell_type": "code",
      "source": [
        "# import libs\n",
        "from chimerax.core.commands import run\n",
        "\n",
        "# set a function to record a movie\n",
        "def make_movie(session, output_path, supersample=3, quality=\"highest\", framerate=60, speed=10, rotate=True, rotation_degrees_per_frame=0.25, color=\"bfactor\"):\n",
        "\n",
        "  # Hide all models initially and set the enviroment\n",
        "  run(session, \"hide models\")\n",
        "  run(session, \"set bgColor white\")\n",
        "  run(session, \"graphics silhouettes true\")\n",
        "  run(session, \"lighting multishadow 512\")\n",
        "\n",
        "  # Set up movie recording\n",
        "  run(session, f\"movie record supersample {supersample}\")\n",
        "\n",
        "  # Iterate through the models and show them one by one\n",
        "  for model in session.models.list():\n",
        "    # Show the current ,pdeñ amd colour it based on input\n",
        "    run(session, f\"show #{model.id_string} models\")\n",
        "    if color == \"rainbow\":\n",
        "      run(session, f\"rainbow #{model.id_string}\")\n",
        "    elif color == \"bfactor\":\n",
        "      run(session, f\"color bfactor palette alphafold\")\n",
        "    else:\n",
        "      run(session, f\"color {color}\")\n",
        "\n",
        "    if rotate:\n",
        "      # Rotate and advanve the movie timeline\n",
        "      for _ in range(speed): # Advance this amount of frames per rotation degrees, speed/60 seconds\n",
        "        # Rotate the scene around the Y axis\n",
        "        run(session, f\"turn y {rotation_degrees_per_frame}\")\n",
        "        # Advance the movie timeline by one frame\n",
        "        run(session, f\"wait 1\")\n",
        "      else:\n",
        "        # Advance the movie timeline by speed/60 seconds\n",
        "        run(session, f\"wait {speed}\")\n",
        "\n",
        "      # Hide the current model before moving to the next one\n",
        "      run(session, f\"hide #{model.id_string} models\")\n",
        "\n",
        "  # Stop movie recording\n",
        "  run(session, \"movie stop\") # la línea movida fuera del bucle for\n",
        "\n",
        "  # Encode and save the movie\n",
        "  run(session, f\"movie encode {output_path} quality {quality} framerate {framerate}\")\n",
        "\n",
        "# Run the maike_movie function with your output file path\n",
        "make_movie(session, \"D:\\Desktop\\my_movie.mp4\")"
      ],
      "metadata": {
        "id": "FMJgENQA8aCq"
      },
      "execution_count": null,
      "outputs": []
    }
  ]
}